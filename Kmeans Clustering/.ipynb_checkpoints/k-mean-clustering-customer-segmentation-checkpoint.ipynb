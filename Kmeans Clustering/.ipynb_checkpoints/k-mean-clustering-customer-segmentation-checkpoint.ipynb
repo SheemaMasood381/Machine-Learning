{
 "cells": [
  {
   "cell_type": "code",
   "execution_count": 1,
   "id": "6996393d",
   "metadata": {
    "_cell_guid": "b1076dfc-b9ad-4769-8c92-a6c4dae69d19",
    "_uuid": "8f2839f25d086af736a60e9eeb907d3b93b6e0e5",
    "execution": {
     "iopub.execute_input": "2024-08-21T10:54:43.958818Z",
     "iopub.status.busy": "2024-08-21T10:54:43.958458Z",
     "iopub.status.idle": "2024-08-21T10:54:46.631084Z",
     "shell.execute_reply": "2024-08-21T10:54:46.630125Z"
    },
    "papermill": {
     "duration": 2.683804,
     "end_time": "2024-08-21T10:54:46.633562",
     "exception": false,
     "start_time": "2024-08-21T10:54:43.949758",
     "status": "completed"
    },
    "tags": []
   },
   "outputs": [],
   "source": [
    "import pandas as pd \n",
    "import numpy as np \n",
    "import seaborn as sns \n",
    "import matplotlib.pyplot as plt \n",
    "import re \n",
    "from sklearn.cluster import KMeans"
   ]
  },
  {
   "cell_type": "code",
   "execution_count": 2,
   "id": "709e1d1a",
   "metadata": {
    "execution": {
     "iopub.execute_input": "2024-08-21T10:54:46.649915Z",
     "iopub.status.busy": "2024-08-21T10:54:46.648894Z",
     "iopub.status.idle": "2024-08-21T10:54:46.672962Z",
     "shell.execute_reply": "2024-08-21T10:54:46.672016Z"
    },
    "papermill": {
     "duration": 0.034902,
     "end_time": "2024-08-21T10:54:46.675577",
     "exception": false,
     "start_time": "2024-08-21T10:54:46.640675",
     "status": "completed"
    },
    "tags": []
   },
   "outputs": [],
   "source": [
    "df = pd.read_csv(\"/kaggle/input/mall-customers/Mall_Customers.csv\")"
   ]
  },
  {
   "cell_type": "code",
   "execution_count": 3,
   "id": "4a031eaa",
   "metadata": {
    "execution": {
     "iopub.execute_input": "2024-08-21T10:54:46.691531Z",
     "iopub.status.busy": "2024-08-21T10:54:46.690668Z",
     "iopub.status.idle": "2024-08-21T10:54:46.709740Z",
     "shell.execute_reply": "2024-08-21T10:54:46.708607Z"
    },
    "papermill": {
     "duration": 0.029964,
     "end_time": "2024-08-21T10:54:46.712479",
     "exception": false,
     "start_time": "2024-08-21T10:54:46.682515",
     "status": "completed"
    },
    "tags": []
   },
   "outputs": [
    {
     "data": {
      "text/html": [
       "<div>\n",
       "<style scoped>\n",
       "    .dataframe tbody tr th:only-of-type {\n",
       "        vertical-align: middle;\n",
       "    }\n",
       "\n",
       "    .dataframe tbody tr th {\n",
       "        vertical-align: top;\n",
       "    }\n",
       "\n",
       "    .dataframe thead th {\n",
       "        text-align: right;\n",
       "    }\n",
       "</style>\n",
       "<table border=\"1\" class=\"dataframe\">\n",
       "  <thead>\n",
       "    <tr style=\"text-align: right;\">\n",
       "      <th></th>\n",
       "      <th>CustomerID</th>\n",
       "      <th>Genre</th>\n",
       "      <th>Age</th>\n",
       "      <th>Annual Income (k$)</th>\n",
       "      <th>Spending Score (1-100)</th>\n",
       "    </tr>\n",
       "  </thead>\n",
       "  <tbody>\n",
       "    <tr>\n",
       "      <th>0</th>\n",
       "      <td>1</td>\n",
       "      <td>Male</td>\n",
       "      <td>19</td>\n",
       "      <td>15</td>\n",
       "      <td>39</td>\n",
       "    </tr>\n",
       "    <tr>\n",
       "      <th>1</th>\n",
       "      <td>2</td>\n",
       "      <td>Male</td>\n",
       "      <td>21</td>\n",
       "      <td>15</td>\n",
       "      <td>81</td>\n",
       "    </tr>\n",
       "    <tr>\n",
       "      <th>2</th>\n",
       "      <td>3</td>\n",
       "      <td>Female</td>\n",
       "      <td>20</td>\n",
       "      <td>16</td>\n",
       "      <td>6</td>\n",
       "    </tr>\n",
       "  </tbody>\n",
       "</table>\n",
       "</div>"
      ],
      "text/plain": [
       "   CustomerID   Genre  Age  Annual Income (k$)  Spending Score (1-100)\n",
       "0           1    Male   19                  15                      39\n",
       "1           2    Male   21                  15                      81\n",
       "2           3  Female   20                  16                       6"
      ]
     },
     "execution_count": 3,
     "metadata": {},
     "output_type": "execute_result"
    }
   ],
   "source": [
    "df.head(3)"
   ]
  },
  {
   "cell_type": "code",
   "execution_count": 4,
   "id": "ca03e909",
   "metadata": {
    "execution": {
     "iopub.execute_input": "2024-08-21T10:54:46.733261Z",
     "iopub.status.busy": "2024-08-21T10:54:46.732421Z",
     "iopub.status.idle": "2024-08-21T10:54:46.739629Z",
     "shell.execute_reply": "2024-08-21T10:54:46.738417Z"
    },
    "papermill": {
     "duration": 0.020582,
     "end_time": "2024-08-21T10:54:46.741983",
     "exception": false,
     "start_time": "2024-08-21T10:54:46.721401",
     "status": "completed"
    },
    "tags": []
   },
   "outputs": [
    {
     "data": {
      "text/plain": [
       "(200, 5)"
      ]
     },
     "execution_count": 4,
     "metadata": {},
     "output_type": "execute_result"
    }
   ],
   "source": [
    "df.shape"
   ]
  },
  {
   "cell_type": "code",
   "execution_count": 5,
   "id": "ea150ee1",
   "metadata": {
    "execution": {
     "iopub.execute_input": "2024-08-21T10:54:46.758985Z",
     "iopub.status.busy": "2024-08-21T10:54:46.758002Z",
     "iopub.status.idle": "2024-08-21T10:54:46.796469Z",
     "shell.execute_reply": "2024-08-21T10:54:46.795340Z"
    },
    "papermill": {
     "duration": 0.049416,
     "end_time": "2024-08-21T10:54:46.798784",
     "exception": false,
     "start_time": "2024-08-21T10:54:46.749368",
     "status": "completed"
    },
    "tags": []
   },
   "outputs": [
    {
     "data": {
      "text/html": [
       "<div>\n",
       "<style scoped>\n",
       "    .dataframe tbody tr th:only-of-type {\n",
       "        vertical-align: middle;\n",
       "    }\n",
       "\n",
       "    .dataframe tbody tr th {\n",
       "        vertical-align: top;\n",
       "    }\n",
       "\n",
       "    .dataframe thead th {\n",
       "        text-align: right;\n",
       "    }\n",
       "</style>\n",
       "<table border=\"1\" class=\"dataframe\">\n",
       "  <thead>\n",
       "    <tr style=\"text-align: right;\">\n",
       "      <th></th>\n",
       "      <th>CustomerID</th>\n",
       "      <th>Age</th>\n",
       "      <th>Annual Income (k$)</th>\n",
       "      <th>Spending Score (1-100)</th>\n",
       "    </tr>\n",
       "  </thead>\n",
       "  <tbody>\n",
       "    <tr>\n",
       "      <th>count</th>\n",
       "      <td>200.000000</td>\n",
       "      <td>200.000000</td>\n",
       "      <td>200.000000</td>\n",
       "      <td>200.000000</td>\n",
       "    </tr>\n",
       "    <tr>\n",
       "      <th>mean</th>\n",
       "      <td>100.500000</td>\n",
       "      <td>38.850000</td>\n",
       "      <td>60.560000</td>\n",
       "      <td>50.200000</td>\n",
       "    </tr>\n",
       "    <tr>\n",
       "      <th>std</th>\n",
       "      <td>57.879185</td>\n",
       "      <td>13.969007</td>\n",
       "      <td>26.264721</td>\n",
       "      <td>25.823522</td>\n",
       "    </tr>\n",
       "    <tr>\n",
       "      <th>min</th>\n",
       "      <td>1.000000</td>\n",
       "      <td>18.000000</td>\n",
       "      <td>15.000000</td>\n",
       "      <td>1.000000</td>\n",
       "    </tr>\n",
       "    <tr>\n",
       "      <th>25%</th>\n",
       "      <td>50.750000</td>\n",
       "      <td>28.750000</td>\n",
       "      <td>41.500000</td>\n",
       "      <td>34.750000</td>\n",
       "    </tr>\n",
       "    <tr>\n",
       "      <th>50%</th>\n",
       "      <td>100.500000</td>\n",
       "      <td>36.000000</td>\n",
       "      <td>61.500000</td>\n",
       "      <td>50.000000</td>\n",
       "    </tr>\n",
       "    <tr>\n",
       "      <th>75%</th>\n",
       "      <td>150.250000</td>\n",
       "      <td>49.000000</td>\n",
       "      <td>78.000000</td>\n",
       "      <td>73.000000</td>\n",
       "    </tr>\n",
       "    <tr>\n",
       "      <th>max</th>\n",
       "      <td>200.000000</td>\n",
       "      <td>70.000000</td>\n",
       "      <td>137.000000</td>\n",
       "      <td>99.000000</td>\n",
       "    </tr>\n",
       "  </tbody>\n",
       "</table>\n",
       "</div>"
      ],
      "text/plain": [
       "       CustomerID         Age  Annual Income (k$)  Spending Score (1-100)\n",
       "count  200.000000  200.000000          200.000000              200.000000\n",
       "mean   100.500000   38.850000           60.560000               50.200000\n",
       "std     57.879185   13.969007           26.264721               25.823522\n",
       "min      1.000000   18.000000           15.000000                1.000000\n",
       "25%     50.750000   28.750000           41.500000               34.750000\n",
       "50%    100.500000   36.000000           61.500000               50.000000\n",
       "75%    150.250000   49.000000           78.000000               73.000000\n",
       "max    200.000000   70.000000          137.000000               99.000000"
      ]
     },
     "execution_count": 5,
     "metadata": {},
     "output_type": "execute_result"
    }
   ],
   "source": [
    "df.describe()"
   ]
  },
  {
   "cell_type": "code",
   "execution_count": 6,
   "id": "62e386fb",
   "metadata": {
    "execution": {
     "iopub.execute_input": "2024-08-21T10:54:46.816258Z",
     "iopub.status.busy": "2024-08-21T10:54:46.815776Z",
     "iopub.status.idle": "2024-08-21T10:54:46.839037Z",
     "shell.execute_reply": "2024-08-21T10:54:46.837851Z"
    },
    "papermill": {
     "duration": 0.034826,
     "end_time": "2024-08-21T10:54:46.841540",
     "exception": false,
     "start_time": "2024-08-21T10:54:46.806714",
     "status": "completed"
    },
    "tags": []
   },
   "outputs": [
    {
     "name": "stdout",
     "output_type": "stream",
     "text": [
      "<class 'pandas.core.frame.DataFrame'>\n",
      "RangeIndex: 200 entries, 0 to 199\n",
      "Data columns (total 5 columns):\n",
      " #   Column                  Non-Null Count  Dtype \n",
      "---  ------                  --------------  ----- \n",
      " 0   CustomerID              200 non-null    int64 \n",
      " 1   Genre                   200 non-null    object\n",
      " 2   Age                     200 non-null    int64 \n",
      " 3   Annual Income (k$)      200 non-null    int64 \n",
      " 4   Spending Score (1-100)  200 non-null    int64 \n",
      "dtypes: int64(4), object(1)\n",
      "memory usage: 7.9+ KB\n"
     ]
    }
   ],
   "source": [
    "df.info()"
   ]
  },
  {
   "cell_type": "code",
   "execution_count": 7,
   "id": "a922628a",
   "metadata": {
    "execution": {
     "iopub.execute_input": "2024-08-21T10:54:46.859128Z",
     "iopub.status.busy": "2024-08-21T10:54:46.858075Z",
     "iopub.status.idle": "2024-08-21T10:54:47.595850Z",
     "shell.execute_reply": "2024-08-21T10:54:47.594746Z"
    },
    "papermill": {
     "duration": 0.749049,
     "end_time": "2024-08-21T10:54:47.598200",
     "exception": false,
     "start_time": "2024-08-21T10:54:46.849151",
     "status": "completed"
    },
    "tags": []
   },
   "outputs": [
    {
     "data": {
      "text/plain": [
       "<Axes: xlabel='Age', ylabel='count'>"
      ]
     },
     "execution_count": 7,
     "metadata": {},
     "output_type": "execute_result"
    },
    {
     "data": {
      "image/png": "[encoded data removed]",
      "text/plain": [
       "<Figure size 1500x1500 with 1 Axes>"
      ]
     },
     "metadata": {},
     "output_type": "display_data"
    }
   ],
   "source": [
    "plt.figure(figsize=(15,15))\n",
    "sns.countplot(data = df , x = 'Age')"
   ]
  },
  {
   "cell_type": "code",
   "execution_count": 8,
   "id": "2f757bae",
   "metadata": {
    "execution": {
     "iopub.execute_input": "2024-08-21T10:54:47.617287Z",
     "iopub.status.busy": "2024-08-21T10:54:47.616272Z",
     "iopub.status.idle": "2024-08-21T10:54:47.769537Z",
     "shell.execute_reply": "2024-08-21T10:54:47.768307Z"
    },
    "papermill": {
     "duration": 0.166763,
     "end_time": "2024-08-21T10:54:47.772774",
     "exception": false,
     "start_time": "2024-08-21T10:54:47.606011",
     "status": "completed"
    },
    "tags": []
   },
   "outputs": [
    {
     "data": {
      "text/plain": [
       "<matplotlib.legend.Legend at 0x7c8d24a59cf0>"
      ]
     },
     "execution_count": 8,
     "metadata": {},
     "output_type": "execute_result"
    },
    {
     "data": {
      "image/png": "[encoded data removed]",
      "text/plain": [
       "<Figure size 640x480 with 1 Axes>"
      ]
     },
     "metadata": {},
     "output_type": "display_data"
    }
   ],
   "source": [
    "plt.pie(df['Genre'].value_counts() , labels=['Male' , 'Female'])\n",
    "plt.legend()"
   ]
  },
  {
   "cell_type": "code",
   "execution_count": 9,
   "id": "7ba9ed4c",
   "metadata": {
    "execution": {
     "iopub.execute_input": "2024-08-21T10:54:47.802829Z",
     "iopub.status.busy": "2024-08-21T10:54:47.802288Z",
     "iopub.status.idle": "2024-08-21T10:54:48.002675Z",
     "shell.execute_reply": "2024-08-21T10:54:48.001326Z"
    },
    "papermill": {
     "duration": 0.219472,
     "end_time": "2024-08-21T10:54:48.006648",
     "exception": false,
     "start_time": "2024-08-21T10:54:47.787176",
     "status": "completed"
    },
    "tags": []
   },
   "outputs": [
    {
     "data": {
      "text/plain": [
       "<matplotlib.legend.Legend at 0x7c8d04f5db70>"
      ]
     },
     "execution_count": 9,
     "metadata": {},
     "output_type": "execute_result"
    },
    {
     "data": {
      "image/png": "[encoded data removed]",
      "text/plain": [
       "<Figure size 640x480 with 1 Axes>"
      ]
     },
     "metadata": {},
     "output_type": "display_data"
    }
   ],
   "source": [
    "df.Genre.value_counts().plot(kind = 'pie' , autopct = '%.2f%%' , shadow='True' , explode=(0 ,0.04))\n",
    "plt.legend()"
   ]
  },
  {
   "cell_type": "code",
   "execution_count": 10,
   "id": "52b8d6e2",
   "metadata": {
    "execution": {
     "iopub.execute_input": "2024-08-21T10:54:48.038465Z",
     "iopub.status.busy": "2024-08-21T10:54:48.037903Z",
     "iopub.status.idle": "2024-08-21T10:54:48.827858Z",
     "shell.execute_reply": "2024-08-21T10:54:48.826824Z"
    },
    "papermill": {
     "duration": 0.808348,
     "end_time": "2024-08-21T10:54:48.830038",
     "exception": false,
     "start_time": "2024-08-21T10:54:48.021690",
     "status": "completed"
    },
    "tags": []
   },
   "outputs": [
    {
     "data": {
      "text/plain": [
       "<Axes: xlabel='Annual Income (k$)', ylabel='count'>"
      ]
     },
     "execution_count": 10,
     "metadata": {},
     "output_type": "execute_result"
    },
    {
     "data": {
      "image/png": "[encoded data removed]",
      "text/plain": [
       "<Figure size 1500x1500 with 1 Axes>"
      ]
     },
     "metadata": {},
     "output_type": "display_data"
    }
   ],
   "source": [
    "plt.figure(figsize =(15,15))\n",
    "sns.countplot(data = df , x='Annual Income (k$)')"
   ]
  },
  {
   "cell_type": "code",
   "execution_count": 11,
   "id": "01c30152",
   "metadata": {
    "execution": {
     "iopub.execute_input": "2024-08-21T10:54:48.850333Z",
     "iopub.status.busy": "2024-08-21T10:54:48.849918Z",
     "iopub.status.idle": "2024-08-21T10:54:49.220319Z",
     "shell.execute_reply": "2024-08-21T10:54:49.219282Z"
    },
    "papermill": {
     "duration": 0.383231,
     "end_time": "2024-08-21T10:54:49.222607",
     "exception": false,
     "start_time": "2024-08-21T10:54:48.839376",
     "status": "completed"
    },
    "tags": []
   },
   "outputs": [
    {
     "name": "stderr",
     "output_type": "stream",
     "text": [
      "/opt/conda/lib/python3.10/site-packages/seaborn/_oldcore.py:1119: FutureWarning: use_inf_as_na option is deprecated and will be removed in a future version. Convert inf values to NaN before operating instead.\n",
      "  with pd.option_context('mode.use_inf_as_na', True):\n",
      "/opt/conda/lib/python3.10/site-packages/seaborn/_oldcore.py:1075: FutureWarning: When grouping with a length-1 list-like, you will need to pass a length-1 tuple to get_group in a future version of pandas. Pass `(name,)` instead of `name` to silence this warning.\n",
      "  data_subset = grouped_data.get_group(pd_key)\n",
      "/opt/conda/lib/python3.10/site-packages/seaborn/_oldcore.py:1075: FutureWarning: When grouping with a length-1 list-like, you will need to pass a length-1 tuple to get_group in a future version of pandas. Pass `(name,)` instead of `name` to silence this warning.\n",
      "  data_subset = grouped_data.get_group(pd_key)\n",
      "/opt/conda/lib/python3.10/site-packages/seaborn/_oldcore.py:1075: FutureWarning: When grouping with a length-1 list-like, you will need to pass a length-1 tuple to get_group in a future version of pandas. Pass `(name,)` instead of `name` to silence this warning.\n",
      "  data_subset = grouped_data.get_group(pd_key)\n",
      "/opt/conda/lib/python3.10/site-packages/seaborn/_oldcore.py:1075: FutureWarning: When grouping with a length-1 list-like, you will need to pass a length-1 tuple to get_group in a future version of pandas. Pass `(name,)` instead of `name` to silence this warning.\n",
      "  data_subset = grouped_data.get_group(pd_key)\n"
     ]
    },
    {
     "data": {
      "image/png": "[encoded data removed]",
      "text/plain": [
       "<Figure size 500x500 with 1 Axes>"
      ]
     },
     "metadata": {},
     "output_type": "display_data"
    }
   ],
   "source": [
    "plt.figure(figsize=(5,5))\n",
    "sns.histplot(df ,x= 'Annual Income (k$)' , hue = 'Genre' , multiple = 'stack')\n",
    "plt.grid()"
   ]
  },
  {
   "cell_type": "code",
   "execution_count": 12,
   "id": "3d815431",
   "metadata": {
    "execution": {
     "iopub.execute_input": "2024-08-21T10:54:49.244940Z",
     "iopub.status.busy": "2024-08-21T10:54:49.244582Z",
     "iopub.status.idle": "2024-08-21T10:54:49.895815Z",
     "shell.execute_reply": "2024-08-21T10:54:49.894766Z"
    },
    "papermill": {
     "duration": 0.665334,
     "end_time": "2024-08-21T10:54:49.898182",
     "exception": false,
     "start_time": "2024-08-21T10:54:49.232848",
     "status": "completed"
    },
    "tags": []
   },
   "outputs": [
    {
     "data": {
      "text/plain": [
       "<seaborn.axisgrid.FacetGrid at 0x7c8d025b7970>"
      ]
     },
     "execution_count": 12,
     "metadata": {},
     "output_type": "execute_result"
    },
    {
     "data": {
      "image/png": "[encoded data removed]",
      "text/plain": [
       "<Figure size 600.25x500 with 1 Axes>"
      ]
     },
     "metadata": {},
     "output_type": "display_data"
    }
   ],
   "source": [
    "sns.lmplot(df,x = 'Spending Score (1-100)' , y='Age' , hue = 'Genre')"
   ]
  },
  {
   "cell_type": "code",
   "execution_count": 13,
   "id": "09fda939",
   "metadata": {
    "execution": {
     "iopub.execute_input": "2024-08-21T10:54:49.927224Z",
     "iopub.status.busy": "2024-08-21T10:54:49.926798Z",
     "iopub.status.idle": "2024-08-21T10:54:49.940326Z",
     "shell.execute_reply": "2024-08-21T10:54:49.939158Z"
    },
    "papermill": {
     "duration": 0.031674,
     "end_time": "2024-08-21T10:54:49.943019",
     "exception": false,
     "start_time": "2024-08-21T10:54:49.911345",
     "status": "completed"
    },
    "tags": []
   },
   "outputs": [
    {
     "data": {
      "text/html": [
       "<div>\n",
       "<style scoped>\n",
       "    .dataframe tbody tr th:only-of-type {\n",
       "        vertical-align: middle;\n",
       "    }\n",
       "\n",
       "    .dataframe tbody tr th {\n",
       "        vertical-align: top;\n",
       "    }\n",
       "\n",
       "    .dataframe thead th {\n",
       "        text-align: right;\n",
       "    }\n",
       "</style>\n",
       "<table border=\"1\" class=\"dataframe\">\n",
       "  <thead>\n",
       "    <tr style=\"text-align: right;\">\n",
       "      <th></th>\n",
       "      <th>CustomerID</th>\n",
       "      <th>Genre</th>\n",
       "      <th>Age</th>\n",
       "      <th>Annual Income (k$)</th>\n",
       "      <th>Spending Score (1-100)</th>\n",
       "    </tr>\n",
       "  </thead>\n",
       "  <tbody>\n",
       "    <tr>\n",
       "      <th>0</th>\n",
       "      <td>1</td>\n",
       "      <td>Male</td>\n",
       "      <td>19</td>\n",
       "      <td>15</td>\n",
       "      <td>39</td>\n",
       "    </tr>\n",
       "    <tr>\n",
       "      <th>1</th>\n",
       "      <td>2</td>\n",
       "      <td>Male</td>\n",
       "      <td>21</td>\n",
       "      <td>15</td>\n",
       "      <td>81</td>\n",
       "    </tr>\n",
       "    <tr>\n",
       "      <th>2</th>\n",
       "      <td>3</td>\n",
       "      <td>Female</td>\n",
       "      <td>20</td>\n",
       "      <td>16</td>\n",
       "      <td>6</td>\n",
       "    </tr>\n",
       "    <tr>\n",
       "      <th>3</th>\n",
       "      <td>4</td>\n",
       "      <td>Female</td>\n",
       "      <td>23</td>\n",
       "      <td>16</td>\n",
       "      <td>77</td>\n",
       "    </tr>\n",
       "    <tr>\n",
       "      <th>4</th>\n",
       "      <td>5</td>\n",
       "      <td>Female</td>\n",
       "      <td>31</td>\n",
       "      <td>17</td>\n",
       "      <td>40</td>\n",
       "    </tr>\n",
       "  </tbody>\n",
       "</table>\n",
       "</div>"
      ],
      "text/plain": [
       "   CustomerID   Genre  Age  Annual Income (k$)  Spending Score (1-100)\n",
       "0           1    Male   19                  15                      39\n",
       "1           2    Male   21                  15                      81\n",
       "2           3  Female   20                  16                       6\n",
       "3           4  Female   23                  16                      77\n",
       "4           5  Female   31                  17                      40"
      ]
     },
     "execution_count": 13,
     "metadata": {},
     "output_type": "execute_result"
    }
   ],
   "source": [
    "df.head()"
   ]
  },
  {
   "cell_type": "code",
   "execution_count": 14,
   "id": "1bdd2c0e",
   "metadata": {
    "execution": {
     "iopub.execute_input": "2024-08-21T10:54:49.968617Z",
     "iopub.status.busy": "2024-08-21T10:54:49.968217Z",
     "iopub.status.idle": "2024-08-21T10:54:49.972703Z",
     "shell.execute_reply": "2024-08-21T10:54:49.971775Z"
    },
    "papermill": {
     "duration": 0.018754,
     "end_time": "2024-08-21T10:54:49.974788",
     "exception": false,
     "start_time": "2024-08-21T10:54:49.956034",
     "status": "completed"
    },
    "tags": []
   },
   "outputs": [],
   "source": [
    "from sklearn.preprocessing import LabelEncoder \n"
   ]
  },
  {
   "cell_type": "code",
   "execution_count": 15,
   "id": "8d80a5bc",
   "metadata": {
    "execution": {
     "iopub.execute_input": "2024-08-21T10:54:49.999959Z",
     "iopub.status.busy": "2024-08-21T10:54:49.999484Z",
     "iopub.status.idle": "2024-08-21T10:54:50.007911Z",
     "shell.execute_reply": "2024-08-21T10:54:50.007066Z"
    },
    "papermill": {
     "duration": 0.02437,
     "end_time": "2024-08-21T10:54:50.010225",
     "exception": false,
     "start_time": "2024-08-21T10:54:49.985855",
     "status": "completed"
    },
    "tags": []
   },
   "outputs": [],
   "source": [
    "enc = LabelEncoder()"
   ]
  },
  {
   "cell_type": "code",
   "execution_count": 16,
   "id": "f5b5bebf",
   "metadata": {
    "execution": {
     "iopub.execute_input": "2024-08-21T10:54:50.040262Z",
     "iopub.status.busy": "2024-08-21T10:54:50.039596Z",
     "iopub.status.idle": "2024-08-21T10:54:50.046023Z",
     "shell.execute_reply": "2024-08-21T10:54:50.044838Z"
    },
    "papermill": {
     "duration": 0.026551,
     "end_time": "2024-08-21T10:54:50.048748",
     "exception": false,
     "start_time": "2024-08-21T10:54:50.022197",
     "status": "completed"
    },
    "tags": []
   },
   "outputs": [],
   "source": [
    "df.Genre = enc.fit_transform(df.Genre)"
   ]
  },
  {
   "cell_type": "code",
   "execution_count": 17,
   "id": "e0ff0875",
   "metadata": {
    "execution": {
     "iopub.execute_input": "2024-08-21T10:54:50.077548Z",
     "iopub.status.busy": "2024-08-21T10:54:50.076587Z",
     "iopub.status.idle": "2024-08-21T10:54:50.086850Z",
     "shell.execute_reply": "2024-08-21T10:54:50.085897Z"
    },
    "papermill": {
     "duration": 0.028005,
     "end_time": "2024-08-21T10:54:50.088874",
     "exception": false,
     "start_time": "2024-08-21T10:54:50.060869",
     "status": "completed"
    },
    "tags": []
   },
   "outputs": [
    {
     "data": {
      "text/html": [
       "<div>\n",
       "<style scoped>\n",
       "    .dataframe tbody tr th:only-of-type {\n",
       "        vertical-align: middle;\n",
       "    }\n",
       "\n",
       "    .dataframe tbody tr th {\n",
       "        vertical-align: top;\n",
       "    }\n",
       "\n",
       "    .dataframe thead th {\n",
       "        text-align: right;\n",
       "    }\n",
       "</style>\n",
       "<table border=\"1\" class=\"dataframe\">\n",
       "  <thead>\n",
       "    <tr style=\"text-align: right;\">\n",
       "      <th></th>\n",
       "      <th>CustomerID</th>\n",
       "      <th>Genre</th>\n",
       "      <th>Age</th>\n",
       "      <th>Annual Income (k$)</th>\n",
       "      <th>Spending Score (1-100)</th>\n",
       "    </tr>\n",
       "  </thead>\n",
       "  <tbody>\n",
       "    <tr>\n",
       "      <th>0</th>\n",
       "      <td>1</td>\n",
       "      <td>1</td>\n",
       "      <td>19</td>\n",
       "      <td>15</td>\n",
       "      <td>39</td>\n",
       "    </tr>\n",
       "    <tr>\n",
       "      <th>1</th>\n",
       "      <td>2</td>\n",
       "      <td>1</td>\n",
       "      <td>21</td>\n",
       "      <td>15</td>\n",
       "      <td>81</td>\n",
       "    </tr>\n",
       "    <tr>\n",
       "      <th>2</th>\n",
       "      <td>3</td>\n",
       "      <td>0</td>\n",
       "      <td>20</td>\n",
       "      <td>16</td>\n",
       "      <td>6</td>\n",
       "    </tr>\n",
       "    <tr>\n",
       "      <th>3</th>\n",
       "      <td>4</td>\n",
       "      <td>0</td>\n",
       "      <td>23</td>\n",
       "      <td>16</td>\n",
       "      <td>77</td>\n",
       "    </tr>\n",
       "    <tr>\n",
       "      <th>4</th>\n",
       "      <td>5</td>\n",
       "      <td>0</td>\n",
       "      <td>31</td>\n",
       "      <td>17</td>\n",
       "      <td>40</td>\n",
       "    </tr>\n",
       "  </tbody>\n",
       "</table>\n",
       "</div>"
      ],
      "text/plain": [
       "   CustomerID  Genre  Age  Annual Income (k$)  Spending Score (1-100)\n",
       "0           1      1   19                  15                      39\n",
       "1           2      1   21                  15                      81\n",
       "2           3      0   20                  16                       6\n",
       "3           4      0   23                  16                      77\n",
       "4           5      0   31                  17                      40"
      ]
     },
     "execution_count": 17,
     "metadata": {},
     "output_type": "execute_result"
    }
   ],
   "source": [
    "df.head()"
   ]
  },
  {
   "cell_type": "code",
   "execution_count": 18,
   "id": "c5742ecf",
   "metadata": {
    "execution": {
     "iopub.execute_input": "2024-08-21T10:54:50.114171Z",
     "iopub.status.busy": "2024-08-21T10:54:50.113269Z",
     "iopub.status.idle": "2024-08-21T10:54:50.118862Z",
     "shell.execute_reply": "2024-08-21T10:54:50.117944Z"
    },
    "papermill": {
     "duration": 0.020661,
     "end_time": "2024-08-21T10:54:50.121252",
     "exception": false,
     "start_time": "2024-08-21T10:54:50.100591",
     "status": "completed"
    },
    "tags": []
   },
   "outputs": [],
   "source": [
    "df.drop('CustomerID' , axis = 1 , inplace = True )"
   ]
  },
  {
   "cell_type": "code",
   "execution_count": 19,
   "id": "11287084",
   "metadata": {
    "execution": {
     "iopub.execute_input": "2024-08-21T10:54:50.145460Z",
     "iopub.status.busy": "2024-08-21T10:54:50.145056Z",
     "iopub.status.idle": "2024-08-21T10:54:50.470910Z",
     "shell.execute_reply": "2024-08-21T10:54:50.467279Z"
    },
    "papermill": {
     "duration": 0.34113,
     "end_time": "2024-08-21T10:54:50.473726",
     "exception": false,
     "start_time": "2024-08-21T10:54:50.132596",
     "status": "completed"
    },
    "tags": []
   },
   "outputs": [],
   "source": [
    "ssd = []\n",
    "for i in range(1,11):\n",
    "    Kmodel = KMeans(n_clusters = i , n_init= 15 , max_iter = 500 )\n",
    "    Kmodel.fit(df)\n",
    "    ssd.append(Kmodel.inertia_)"
   ]
  },
  {
   "cell_type": "code",
   "execution_count": 20,
   "id": "fe2aa9c6",
   "metadata": {
    "execution": {
     "iopub.execute_input": "2024-08-21T10:54:50.504023Z",
     "iopub.status.busy": "2024-08-21T10:54:50.503086Z",
     "iopub.status.idle": "2024-08-21T10:54:50.509390Z",
     "shell.execute_reply": "2024-08-21T10:54:50.508433Z"
    },
    "papermill": {
     "duration": 0.021784,
     "end_time": "2024-08-21T10:54:50.511569",
     "exception": false,
     "start_time": "2024-08-21T10:54:50.489785",
     "status": "completed"
    },
    "tags": []
   },
   "outputs": [
    {
     "data": {
      "text/plain": [
       "[308862.06,\n",
       " 212889.442455243,\n",
       " 143391.59236035676,\n",
       " 104414.67534220166,\n",
       " 75399.61541401483,\n",
       " 58348.641363315044,\n",
       " 51165.184237107926,\n",
       " 44392.115665679354,\n",
       " 40649.64102453103,\n",
       " 37664.56601788664]"
      ]
     },
     "execution_count": 20,
     "metadata": {},
     "output_type": "execute_result"
    }
   ],
   "source": [
    "ssd"
   ]
  },
  {
   "cell_type": "code",
   "execution_count": 21,
   "id": "9d5b023d",
   "metadata": {
    "execution": {
     "iopub.execute_input": "2024-08-21T10:54:50.536180Z",
     "iopub.status.busy": "2024-08-21T10:54:50.535547Z",
     "iopub.status.idle": "2024-08-21T10:54:50.758390Z",
     "shell.execute_reply": "2024-08-21T10:54:50.757344Z"
    },
    "papermill": {
     "duration": 0.237423,
     "end_time": "2024-08-21T10:54:50.760571",
     "exception": false,
     "start_time": "2024-08-21T10:54:50.523148",
     "status": "completed"
    },
    "tags": []
   },
   "outputs": [
    {
     "data": {
      "image/png": "[encoded data removed]",
      "text/plain": [
       "<Figure size 640x480 with 1 Axes>"
      ]
     },
     "metadata": {},
     "output_type": "display_data"
    }
   ],
   "source": [
    "plt.plot(range(1,11) , ssd , marker = 'o')\n",
    "plt.grid()"
   ]
  },
  {
   "cell_type": "code",
   "execution_count": 22,
   "id": "4132ab31",
   "metadata": {
    "execution": {
     "iopub.execute_input": "2024-08-21T10:54:50.785898Z",
     "iopub.status.busy": "2024-08-21T10:54:50.785511Z",
     "iopub.status.idle": "2024-08-21T10:54:50.790224Z",
     "shell.execute_reply": "2024-08-21T10:54:50.789211Z"
    },
    "papermill": {
     "duration": 0.019618,
     "end_time": "2024-08-21T10:54:50.792200",
     "exception": false,
     "start_time": "2024-08-21T10:54:50.772582",
     "status": "completed"
    },
    "tags": []
   },
   "outputs": [],
   "source": [
    "kmodel = KMeans(n_clusters = 6)"
   ]
  },
  {
   "cell_type": "code",
   "execution_count": 23,
   "id": "57bd1c41",
   "metadata": {
    "execution": {
     "iopub.execute_input": "2024-08-21T10:54:50.817527Z",
     "iopub.status.busy": "2024-08-21T10:54:50.817131Z",
     "iopub.status.idle": "2024-08-21T10:54:50.865686Z",
     "shell.execute_reply": "2024-08-21T10:54:50.864627Z"
    },
    "papermill": {
     "duration": 0.06468,
     "end_time": "2024-08-21T10:54:50.868796",
     "exception": false,
     "start_time": "2024-08-21T10:54:50.804116",
     "status": "completed"
    },
    "tags": []
   },
   "outputs": [
    {
     "name": "stderr",
     "output_type": "stream",
     "text": [
      "/opt/conda/lib/python3.10/site-packages/sklearn/cluster/_kmeans.py:870: FutureWarning: The default value of `n_init` will change from 10 to 'auto' in 1.4. Set the value of `n_init` explicitly to suppress the warning\n",
      "  warnings.warn(\n"
     ]
    },
    {
     "data": {
      "text/html": [
       "<style>#sk-container-id-1 {color: black;background-color: white;}#sk-container-id-1 pre{padding: 0;}#sk-container-id-1 div.sk-toggleable {background-color: white;}#sk-container-id-1 label.sk-toggleable__label {cursor: pointer;display: block;width: 100%;margin-bottom: 0;padding: 0.3em;box-sizing: border-box;text-align: center;}#sk-container-id-1 label.sk-toggleable__label-arrow:before {content: \"▸\";float: left;margin-right: 0.25em;color: #696969;}#sk-container-id-1 label.sk-toggleable__label-arrow:hover:before {color: black;}#sk-container-id-1 div.sk-estimator:hover label.sk-toggleable__label-arrow:before {color: black;}#sk-container-id-1 div.sk-toggleable__content {max-height: 0;max-width: 0;overflow: hidden;text-align: left;background-color: #f0f8ff;}#sk-container-id-1 div.sk-toggleable__content pre {margin: 0.2em;color: black;border-radius: 0.25em;background-color: #f0f8ff;}#sk-container-id-1 input.sk-toggleable__control:checked~div.sk-toggleable__content {max-height: 200px;max-width: 100%;overflow: auto;}#sk-container-id-1 input.sk-toggleable__control:checked~label.sk-toggleable__label-arrow:before {content: \"▾\";}#sk-container-id-1 div.sk-estimator input.sk-toggleable__control:checked~label.sk-toggleable__label {background-color: #d4ebff;}#sk-container-id-1 div.sk-label input.sk-toggleable__control:checked~label.sk-toggleable__label {background-color: #d4ebff;}#sk-container-id-1 input.sk-hidden--visually {border: 0;clip: rect(1px 1px 1px 1px);clip: rect(1px, 1px, 1px, 1px);height: 1px;margin: -1px;overflow: hidden;padding: 0;position: absolute;width: 1px;}#sk-container-id-1 div.sk-estimator {font-family: monospace;background-color: #f0f8ff;border: 1px dotted black;border-radius: 0.25em;box-sizing: border-box;margin-bottom: 0.5em;}#sk-container-id-1 div.sk-estimator:hover {background-color: #d4ebff;}#sk-container-id-1 div.sk-parallel-item::after {content: \"\";width: 100%;border-bottom: 1px solid gray;flex-grow: 1;}#sk-container-id-1 div.sk-label:hover label.sk-toggleable__label {background-color: #d4ebff;}#sk-container-id-1 div.sk-serial::before {content: \"\";position: absolute;border-left: 1px solid gray;box-sizing: border-box;top: 0;bottom: 0;left: 50%;z-index: 0;}#sk-container-id-1 div.sk-serial {display: flex;flex-direction: column;align-items: center;background-color: white;padding-right: 0.2em;padding-left: 0.2em;position: relative;}#sk-container-id-1 div.sk-item {position: relative;z-index: 1;}#sk-container-id-1 div.sk-parallel {display: flex;align-items: stretch;justify-content: center;background-color: white;position: relative;}#sk-container-id-1 div.sk-item::before, #sk-container-id-1 div.sk-parallel-item::before {content: \"\";position: absolute;border-left: 1px solid gray;box-sizing: border-box;top: 0;bottom: 0;left: 50%;z-index: -1;}#sk-container-id-1 div.sk-parallel-item {display: flex;flex-direction: column;z-index: 1;position: relative;background-color: white;}#sk-container-id-1 div.sk-parallel-item:first-child::after {align-self: flex-end;width: 50%;}#sk-container-id-1 div.sk-parallel-item:last-child::after {align-self: flex-start;width: 50%;}#sk-container-id-1 div.sk-parallel-item:only-child::after {width: 0;}#sk-container-id-1 div.sk-dashed-wrapped {border: 1px dashed gray;margin: 0 0.4em 0.5em 0.4em;box-sizing: border-box;padding-bottom: 0.4em;background-color: white;}#sk-container-id-1 div.sk-label label {font-family: monospace;font-weight: bold;display: inline-block;line-height: 1.2em;}#sk-container-id-1 div.sk-label-container {text-align: center;}#sk-container-id-1 div.sk-container {/* jupyter's `normalize.less` sets `[hidden] { display: none; }` but bootstrap.min.css set `[hidden] { display: none !important; }` so we also need the `!important` here to be able to override the default hidden behavior on the sphinx rendered scikit-learn.org. See: https://github.com/scikit-learn/scikit-learn/issues/21755 */display: inline-block !important;position: relative;}#sk-container-id-1 div.sk-text-repr-fallback {display: none;}</style><div id=\"sk-container-id-1\" class=\"sk-top-container\"><div class=\"sk-text-repr-fallback\"><pre>KMeans(n_clusters=6)</pre><b>In a Jupyter environment, please rerun this cell to show the HTML representation or trust the notebook. <br />On GitHub, the HTML representation is unable to render, please try loading this page with nbviewer.org.</b></div><div class=\"sk-container\" hidden><div class=\"sk-item\"><div class=\"sk-estimator sk-toggleable\"><input class=\"sk-toggleable__control sk-hidden--visually\" id=\"sk-estimator-id-1\" type=\"checkbox\" checked><label for=\"sk-estimator-id-1\" class=\"sk-toggleable__label sk-toggleable__label-arrow\">KMeans</label><div class=\"sk-toggleable__content\"><pre>KMeans(n_clusters=6)</pre></div></div></div></div></div>"
      ],
      "text/plain": [
       "KMeans(n_clusters=6)"
      ]
     },
     "execution_count": 23,
     "metadata": {},
     "output_type": "execute_result"
    }
   ],
   "source": [
    "kmodel.fit(df)"
   ]
  },
  {
   "cell_type": "code",
   "execution_count": 24,
   "id": "33ca0f9a",
   "metadata": {
    "execution": {
     "iopub.execute_input": "2024-08-21T10:54:50.898969Z",
     "iopub.status.busy": "2024-08-21T10:54:50.897835Z",
     "iopub.status.idle": "2024-08-21T10:54:50.905483Z",
     "shell.execute_reply": "2024-08-21T10:54:50.904497Z"
    },
    "papermill": {
     "duration": 0.02349,
     "end_time": "2024-08-21T10:54:50.907719",
     "exception": false,
     "start_time": "2024-08-21T10:54:50.884229",
     "status": "completed"
    },
    "tags": []
   },
   "outputs": [],
   "source": [
    "prediction = kmodel.predict(df)"
   ]
  },
  {
   "cell_type": "code",
   "execution_count": 25,
   "id": "ce213d8f",
   "metadata": {
    "execution": {
     "iopub.execute_input": "2024-08-21T10:54:50.936747Z",
     "iopub.status.busy": "2024-08-21T10:54:50.936143Z",
     "iopub.status.idle": "2024-08-21T10:54:50.943970Z",
     "shell.execute_reply": "2024-08-21T10:54:50.942824Z"
    },
    "papermill": {
     "duration": 0.023794,
     "end_time": "2024-08-21T10:54:50.946137",
     "exception": false,
     "start_time": "2024-08-21T10:54:50.922343",
     "status": "completed"
    },
    "tags": []
   },
   "outputs": [
    {
     "data": {
      "text/plain": [
       "array([4, 1, 4, 1, 4, 1, 4, 1, 4, 1, 4, 1, 4, 1, 4, 1, 4, 1, 4, 1, 4, 1,\n",
       "       4, 1, 4, 1, 4, 1, 4, 1, 4, 1, 4, 1, 4, 1, 4, 1, 4, 1, 2, 1, 2, 3,\n",
       "       4, 1, 2, 3, 3, 3, 2, 3, 3, 2, 2, 2, 2, 2, 3, 2, 2, 3, 2, 2, 2, 3,\n",
       "       2, 2, 3, 3, 2, 2, 2, 2, 2, 3, 2, 3, 3, 2, 2, 3, 2, 2, 3, 2, 2, 3,\n",
       "       3, 2, 2, 3, 2, 3, 3, 3, 2, 3, 2, 3, 3, 2, 2, 3, 2, 3, 2, 2, 2, 2,\n",
       "       2, 3, 3, 3, 3, 3, 2, 2, 2, 2, 3, 3, 3, 5, 3, 5, 0, 5, 0, 5, 0, 5,\n",
       "       3, 5, 0, 5, 0, 5, 0, 5, 0, 5, 3, 5, 0, 5, 0, 5, 0, 5, 0, 5, 0, 5,\n",
       "       0, 5, 0, 5, 0, 5, 0, 5, 0, 5, 0, 5, 0, 5, 0, 5, 0, 5, 0, 5, 0, 5,\n",
       "       0, 5, 0, 5, 0, 5, 0, 5, 0, 5, 0, 5, 0, 5, 0, 5, 0, 5, 0, 5, 0, 5,\n",
       "       0, 5], dtype=int32)"
      ]
     },
     "execution_count": 25,
     "metadata": {},
     "output_type": "execute_result"
    }
   ],
   "source": [
    "prediction "
   ]
  },
  {
   "cell_type": "code",
   "execution_count": 26,
   "id": "9d2c3ee3",
   "metadata": {
    "execution": {
     "iopub.execute_input": "2024-08-21T10:54:50.972944Z",
     "iopub.status.busy": "2024-08-21T10:54:50.972582Z",
     "iopub.status.idle": "2024-08-21T10:54:50.979449Z",
     "shell.execute_reply": "2024-08-21T10:54:50.978393Z"
    },
    "papermill": {
     "duration": 0.02277,
     "end_time": "2024-08-21T10:54:50.981592",
     "exception": false,
     "start_time": "2024-08-21T10:54:50.958822",
     "status": "completed"
    },
    "tags": []
   },
   "outputs": [
    {
     "data": {
      "text/plain": [
       "array([[ 0.57142857, 41.68571429, 88.22857143, 17.28571429],\n",
       "       [ 0.40909091, 25.27272727, 25.72727273, 79.36363636],\n",
       "       [ 0.44444444, 56.15555556, 53.37777778, 49.08888889],\n",
       "       [ 0.34210526, 27.        , 56.65789474, 49.13157895],\n",
       "       [ 0.38095238, 44.14285714, 25.14285714, 19.52380952],\n",
       "       [ 0.46153846, 32.69230769, 86.53846154, 82.12820513]])"
      ]
     },
     "execution_count": 26,
     "metadata": {},
     "output_type": "execute_result"
    }
   ],
   "source": [
    "kmodel.cluster_centers_"
   ]
  },
  {
   "cell_type": "code",
   "execution_count": 27,
   "id": "d129c6ed",
   "metadata": {
    "execution": {
     "iopub.execute_input": "2024-08-21T10:54:51.008605Z",
     "iopub.status.busy": "2024-08-21T10:54:51.007821Z",
     "iopub.status.idle": "2024-08-21T10:54:51.013266Z",
     "shell.execute_reply": "2024-08-21T10:54:51.012248Z"
    },
    "papermill": {
     "duration": 0.021281,
     "end_time": "2024-08-21T10:54:51.015418",
     "exception": false,
     "start_time": "2024-08-21T10:54:50.994137",
     "status": "completed"
    },
    "tags": []
   },
   "outputs": [],
   "source": [
    "df['cluster'] = prediction "
   ]
  },
  {
   "cell_type": "code",
   "execution_count": 28,
   "id": "91b4bdfd",
   "metadata": {
    "execution": {
     "iopub.execute_input": "2024-08-21T10:54:51.043214Z",
     "iopub.status.busy": "2024-08-21T10:54:51.042812Z",
     "iopub.status.idle": "2024-08-21T10:54:51.053326Z",
     "shell.execute_reply": "2024-08-21T10:54:51.052292Z"
    },
    "papermill": {
     "duration": 0.026762,
     "end_time": "2024-08-21T10:54:51.055505",
     "exception": false,
     "start_time": "2024-08-21T10:54:51.028743",
     "status": "completed"
    },
    "tags": []
   },
   "outputs": [
    {
     "data": {
      "text/html": [
       "<div>\n",
       "<style scoped>\n",
       "    .dataframe tbody tr th:only-of-type {\n",
       "        vertical-align: middle;\n",
       "    }\n",
       "\n",
       "    .dataframe tbody tr th {\n",
       "        vertical-align: top;\n",
       "    }\n",
       "\n",
       "    .dataframe thead th {\n",
       "        text-align: right;\n",
       "    }\n",
       "</style>\n",
       "<table border=\"1\" class=\"dataframe\">\n",
       "  <thead>\n",
       "    <tr style=\"text-align: right;\">\n",
       "      <th></th>\n",
       "      <th>Genre</th>\n",
       "      <th>Age</th>\n",
       "      <th>Annual Income (k$)</th>\n",
       "      <th>Spending Score (1-100)</th>\n",
       "      <th>cluster</th>\n",
       "    </tr>\n",
       "  </thead>\n",
       "  <tbody>\n",
       "    <tr>\n",
       "      <th>0</th>\n",
       "      <td>1</td>\n",
       "      <td>19</td>\n",
       "      <td>15</td>\n",
       "      <td>39</td>\n",
       "      <td>4</td>\n",
       "    </tr>\n",
       "    <tr>\n",
       "      <th>1</th>\n",
       "      <td>1</td>\n",
       "      <td>21</td>\n",
       "      <td>15</td>\n",
       "      <td>81</td>\n",
       "      <td>1</td>\n",
       "    </tr>\n",
       "    <tr>\n",
       "      <th>2</th>\n",
       "      <td>0</td>\n",
       "      <td>20</td>\n",
       "      <td>16</td>\n",
       "      <td>6</td>\n",
       "      <td>4</td>\n",
       "    </tr>\n",
       "    <tr>\n",
       "      <th>3</th>\n",
       "      <td>0</td>\n",
       "      <td>23</td>\n",
       "      <td>16</td>\n",
       "      <td>77</td>\n",
       "      <td>1</td>\n",
       "    </tr>\n",
       "    <tr>\n",
       "      <th>4</th>\n",
       "      <td>0</td>\n",
       "      <td>31</td>\n",
       "      <td>17</td>\n",
       "      <td>40</td>\n",
       "      <td>4</td>\n",
       "    </tr>\n",
       "  </tbody>\n",
       "</table>\n",
       "</div>"
      ],
      "text/plain": [
       "   Genre  Age  Annual Income (k$)  Spending Score (1-100)  cluster\n",
       "0      1   19                  15                      39        4\n",
       "1      1   21                  15                      81        1\n",
       "2      0   20                  16                       6        4\n",
       "3      0   23                  16                      77        1\n",
       "4      0   31                  17                      40        4"
      ]
     },
     "execution_count": 28,
     "metadata": {},
     "output_type": "execute_result"
    }
   ],
   "source": [
    "df.head()"
   ]
  },
  {
   "cell_type": "code",
   "execution_count": 29,
   "id": "d0b9af2e",
   "metadata": {
    "execution": {
     "iopub.execute_input": "2024-08-21T10:54:51.083633Z",
     "iopub.status.busy": "2024-08-21T10:54:51.082674Z",
     "iopub.status.idle": "2024-08-21T10:54:51.090036Z",
     "shell.execute_reply": "2024-08-21T10:54:51.089079Z"
    },
    "papermill": {
     "duration": 0.023583,
     "end_time": "2024-08-21T10:54:51.092151",
     "exception": false,
     "start_time": "2024-08-21T10:54:51.068568",
     "status": "completed"
    },
    "tags": []
   },
   "outputs": [
    {
     "data": {
      "text/html": [
       "<svg  width=\"330\" height=\"55\"><rect x=\"0\" y=\"0\" width=\"55\" height=\"55\" style=\"fill:#1f77b4;stroke-width:2;stroke:rgb(255,255,255)\"/><rect x=\"55\" y=\"0\" width=\"55\" height=\"55\" style=\"fill:#ff7f0e;stroke-width:2;stroke:rgb(255,255,255)\"/><rect x=\"110\" y=\"0\" width=\"55\" height=\"55\" style=\"fill:#2ca02c;stroke-width:2;stroke:rgb(255,255,255)\"/><rect x=\"165\" y=\"0\" width=\"55\" height=\"55\" style=\"fill:#d62728;stroke-width:2;stroke:rgb(255,255,255)\"/><rect x=\"220\" y=\"0\" width=\"55\" height=\"55\" style=\"fill:#9467bd;stroke-width:2;stroke:rgb(255,255,255)\"/><rect x=\"275\" y=\"0\" width=\"55\" height=\"55\" style=\"fill:#8c564b;stroke-width:2;stroke:rgb(255,255,255)\"/></svg>"
      ],
      "text/plain": [
       "[(0.12156862745098039, 0.4666666666666667, 0.7058823529411765),\n",
       " (1.0, 0.4980392156862745, 0.054901960784313725),\n",
       " (0.17254901960784313, 0.6274509803921569, 0.17254901960784313),\n",
       " (0.8392156862745098, 0.15294117647058825, 0.1568627450980392),\n",
       " (0.5803921568627451, 0.403921568627451, 0.7411764705882353),\n",
       " (0.5490196078431373, 0.33725490196078434, 0.29411764705882354)]"
      ]
     },
     "execution_count": 29,
     "metadata": {},
     "output_type": "execute_result"
    }
   ],
   "source": [
    "sns.color_palette(None , len(np.unique(prediction)))"
   ]
  },
  {
   "cell_type": "code",
   "execution_count": null,
   "id": "301d2844",
   "metadata": {
    "papermill": {
     "duration": 0.012575,
     "end_time": "2024-08-21T10:54:51.117772",
     "exception": false,
     "start_time": "2024-08-21T10:54:51.105197",
     "status": "completed"
    },
    "tags": []
   },
   "outputs": [],
   "source": []
  }
 ],
 "metadata": {
  "kaggle": {
   "accelerator": "none",
   "dataSources": [
    {
     "datasetId": 7721,
     "sourceId": 10938,
     "sourceType": "datasetVersion"
    }
   ],
   "dockerImageVersionId": 30664,
   "isGpuEnabled": false,
   "isInternetEnabled": true,
   "language": "python",
   "sourceType": "notebook"
  },
  "kernelspec": {
   "display_name": "Python 3",
   "language": "python",
   "name": "python3"
  },
  "language_info": {
   "codemirror_mode": {
    "name": "ipython",
    "version": 3
   },
   "file_extension": ".py",
   "mimetype": "text/x-python",
   "name": "python",
   "nbconvert_exporter": "python",
   "pygments_lexer": "ipython3",
   "version": "3.10.13"
  },
  "papermill": {
   "default_parameters": {},
   "duration": 10.499799,
   "end_time": "2024-08-21T10:54:51.751983",
   "environment_variables": {},
   "exception": null,
   "input_path": "__notebook__.ipynb",
   "output_path": "__notebook__.ipynb",
   "parameters": {},
   "start_time": "2024-08-21T10:54:41.252184",
   "version": "2.5.0"
  }
 },
 "nbformat": 4,
 "nbformat_minor": 5
}
